{
 "cells": [
  {
   "cell_type": "code",
   "execution_count": 1,
   "id": "ab08ae03-951d-4dab-95f3-b7e7db27f586",
   "metadata": {},
   "outputs": [],
   "source": [
    "import joblib"
   ]
  },
  {
   "cell_type": "code",
   "execution_count": 2,
   "id": "e94f37eb-b894-4f92-b03e-67dc1f1a15bf",
   "metadata": {},
   "outputs": [],
   "source": [
    "mj=joblib.load('model_joblib')"
   ]
  },
  {
   "cell_type": "code",
   "execution_count": 4,
   "id": "3d3ccde5-aee3-4f4c-8cb3-691564ababe2",
   "metadata": {},
   "outputs": [
    {
     "name": "stderr",
     "output_type": "stream",
     "text": [
      "C:\\Users\\Priyansu rout\\AppData\\Roaming\\Python\\Python313\\site-packages\\sklearn\\utils\\validation.py:2739: UserWarning: X does not have valid feature names, but LinearRegression was fitted with feature names\n",
      "  warnings.warn(\n"
     ]
    },
    {
     "data": {
      "text/plain": [
       "array([859554.79452055])"
      ]
     },
     "execution_count": 4,
     "metadata": {},
     "output_type": "execute_result"
    }
   ],
   "source": [
    "mj.predict([[5000]])"
   ]
  },
  {
   "cell_type": "code",
   "execution_count": null,
   "id": "27e6bec9-90e1-4c6e-a752-8ac77f419e55",
   "metadata": {},
   "outputs": [],
   "source": []
  }
 ],
 "metadata": {
  "kernelspec": {
   "display_name": "Python 3 (ipykernel)",
   "language": "python",
   "name": "python3"
  },
  "language_info": {
   "codemirror_mode": {
    "name": "ipython",
    "version": 3
   },
   "file_extension": ".py",
   "mimetype": "text/x-python",
   "name": "python",
   "nbconvert_exporter": "python",
   "pygments_lexer": "ipython3",
   "version": "3.13.1"
  }
 },
 "nbformat": 4,
 "nbformat_minor": 5
}
